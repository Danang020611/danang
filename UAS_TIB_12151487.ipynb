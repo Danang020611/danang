{
 "cells": [
  {
   "cell_type": "code",
   "execution_count": null,
   "metadata": {
    "id": "PyOPiCv8CwFD"
   },
   "outputs": [],
   "source": []
  },
  {
   "cell_type": "markdown",
   "metadata": {
    "id": "wmLXDio5Dedv"
   },
   "source": [
    "**NIM :12151487**\n",
    "\n",
    "**Nama :Danang tri mahendra**"
   ]
  },
  {
   "cell_type": "markdown",
   "metadata": {
    "id": "4P01AZZYDrDC"
   },
   "source": [
    "\n",
    "1. Ubah nama file notebook ini dengan format **UAS_TIB_NIM.ipynb**\n",
    "Contoh : UAS_TIB_12399981.ipynb\n",
    "\n",
    "2. Desain Class untuk bangun ruang pada kasus UTS anda. \n",
    "3. Implementasikan Enskapsulasi untuk Class Bangun Datar yang anda rancang.  \n",
    "4. Implentasikan hasil desain class anda dengan membuat 4 (empat) buah objek objek yang berbeda dari dari kelas yang anda. \n",
    "5. Berikan contoh implementasi konsep pewarisan dari class yang anda buat.\n",
    "6. Berikan contoh implementasi konsep polymorphism dari class yang anda buat.\n",
    "7. Berikan penjelasan dari kode yang anda buat untuk point 2 - 6 diatas \n"
   ]
  },
  {
   "cell_type": "code",
   "execution_count": 1,
   "metadata": {
    "id": "xC7nBm7tFn_6"
   },
   "outputs": [
    {
     "name": "stdout",
     "output_type": "stream",
     "text": [
      "Program menghitung\n",
      "1. luas,\n",
      "2. volume\n",
      "3. keliling balok\n",
      "Masukan pilihan: 1\n",
      "masukan panjang balok: 5\n",
      "masukan lebar balok: 4\n",
      "masukan tinggi balok: 3\n",
      "Jadi balok dengan ukuran panjang:5, lebar:4, tinggi:3\n",
      "Mempunyai luas:94\n"
     ]
    }
   ],
   "source": [
    "print('Program menghitung\\n1. luas,\\n2. volume\\n3. keliling balok')\n",
    "pilihan = int(input('Masukan pilihan: '))\n",
    " \n",
    "def luas_permukaan(p,l,t):\n",
    "    L = 2 * ( (p*l) + (p*t) + (l*t) )\n",
    "    return L\n",
    " \n",
    "def volume(p,l,t):\n",
    "    V = p * l * t\n",
    "    return V\n",
    " \n",
    "def keliling(p,l,t):\n",
    "    k = 4 * (p + l + t)\n",
    "    return k\n",
    " \n",
    "if pilihan == 1:\n",
    "    p = int(input('masukan panjang balok: '))\n",
    "    l = int(input('masukan lebar balok: '))\n",
    "    t = int(input('masukan tinggi balok: '))\n",
    "    luas_permukaan(p,l,t)\n",
    "    print('Jadi balok dengan ukuran panjang:{}, lebar:{}, tinggi:{}\\nMempunyai luas:{}'.format(p,l,t, luas_permukaan(p,l,t)))\n",
    " \n",
    "elif pilihan == 2:\n",
    "    p = int(input('masukan panjang balok: '))\n",
    "    l = int(input('masukan lebar balok: '))\n",
    "    t = int(input('masukan tinggi balok: '))\n",
    "    volume(p,l,t)\n",
    "    print('Jadi balok dengan ukuran panjang:{}, lebar:{}, tinggi:{}\\nMempunyai volume:{}'.format(p,l,t, volume(p,l,t)))\n",
    " \n",
    "elif pilihan == 3:\n",
    "    p = int(input('masukan panjang balok: '))\n",
    "    l = int(input('masukan lebar balok: '))\n",
    "    t = int(input('masukan tinggi balok: '))\n",
    "    keliling(p,l,t)\n",
    "    print('Jadi balok dengan ukuran panjang:{}, lebar:{}, tinggi:{}\\nMempunyai keliling:{}'.format(p,l,t, keliling(p,l,t)))\n",
    " \n",
    "else:\n",
    "    print('Pilihan tidak tersedia')"
   ]
  },
  {
   "cell_type": "code",
   "execution_count": null,
   "metadata": {},
   "outputs": [],
   "source": []
  }
 ],
 "metadata": {
  "colab": {
   "collapsed_sections": [],
   "name": "UAS_TIB_NIM.ipynb",
   "provenance": []
  },
  "kernelspec": {
   "display_name": "Python 3",
   "language": "python",
   "name": "python3"
  },
  "language_info": {
   "codemirror_mode": {
    "name": "ipython",
    "version": 3
   },
   "file_extension": ".py",
   "mimetype": "text/x-python",
   "name": "python",
   "nbconvert_exporter": "python",
   "pygments_lexer": "ipython3",
   "version": "3.9.0"
  }
 },
 "nbformat": 4,
 "nbformat_minor": 1
}
